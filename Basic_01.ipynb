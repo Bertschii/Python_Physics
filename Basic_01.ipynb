{
 "cells": [
  {
   "cell_type": "code",
   "execution_count": 1,
   "id": "f49ce26d-66c5-4033-bce3-7fe6be69bee9",
   "metadata": {
    "tags": []
   },
   "outputs": [],
   "source": [
    "import numpy  as np"
   ]
  },
  {
   "cell_type": "code",
   "execution_count": 3,
   "id": "2f51f069-5936-4cc0-82db-c3385dfb935e",
   "metadata": {
    "tags": []
   },
   "outputs": [],
   "source": [
    "import matplotlib.pyplot as plt"
   ]
  },
  {
   "cell_type": "code",
   "execution_count": 4,
   "id": "e7dd8c1d-9f2d-48f4-8edc-3389a20efff1",
   "metadata": {},
   "outputs": [],
   "source": [
    "#Hallo"
   ]
  },
  {
   "cell_type": "code",
   "execution_count": null,
   "id": "3aea8c36-3690-4acc-a1cd-2f53d0ee6890",
   "metadata": {},
   "outputs": [],
   "source": []
  }
 ],
 "metadata": {
  "kernelspec": {
   "display_name": "Python 3 (ipykernel)",
   "language": "python",
   "name": "python3"
  },
  "language_info": {
   "codemirror_mode": {
    "name": "ipython",
    "version": 3
   },
   "file_extension": ".py",
   "mimetype": "text/x-python",
   "name": "python",
   "nbconvert_exporter": "python",
   "pygments_lexer": "ipython3",
   "version": "3.11.5"
  }
 },
 "nbformat": 4,
 "nbformat_minor": 5
}
