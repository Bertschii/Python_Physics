{
 "cells": [
  {
   "cell_type": "markdown",
   "id": "044d443a-55e6-450e-8170-dda0932e66f9",
   "metadata": {},
   "source": [
    "# Import Module"
   ]
  },
  {
   "cell_type": "code",
   "execution_count": 1,
   "id": "f49ce26d-66c5-4033-bce3-7fe6be69bee9",
   "metadata": {
    "tags": []
   },
   "outputs": [],
   "source": [
    "import numpy  as np"
   ]
  },
  {
   "cell_type": "code",
   "execution_count": 3,
   "id": "2f51f069-5936-4cc0-82db-c3385dfb935e",
   "metadata": {
    "tags": []
   },
   "outputs": [],
   "source": [
    "import matplotlib.pyplot as plt"
   ]
  },
  {
   "cell_type": "markdown",
   "id": "02e5b55d-7435-48e8-a2ce-ad80ed5fc071",
   "metadata": {},
   "source": [
    "## Code"
   ]
  },
  {
   "cell_type": "code",
   "execution_count": 7,
   "id": "b46cd373-b871-4be5-9d97-51f58bde54ba",
   "metadata": {
    "tags": []
   },
   "outputs": [],
   "source": [
    "v_1 = 5 # Geschwindikeit"
   ]
  },
  {
   "cell_type": "code",
   "execution_count": 9,
   "id": "b164db66-ddd0-4036-bf30-58d30abc7d20",
   "metadata": {
    "tags": []
   },
   "outputs": [
    {
     "data": {
      "text/plain": [
       "[<matplotlib.lines.Line2D at 0x168ac4ff650>]"
      ]
     },
     "execution_count": 9,
     "metadata": {},
     "output_type": "execute_result"
    },
    {
     "data": {
      "image/png": "[encoded data removed]",
      "text/plain": [
       "<Figure size 640x480 with 1 Axes>"
      ]
     },
     "metadata": {},
     "output_type": "display_data"
    }
   ],
   "source": [
    "plt.plot(v_1, 'b')"
   ]
  },
  {
   "cell_type": "code",
   "execution_count": null,
   "id": "15ce6d73-0bf6-4ac1-86cb-054df41bab03",
   "metadata": {},
   "outputs": [],
   "source": []
  }
 ],
 "metadata": {
  "kernelspec": {
   "display_name": "Python 3 (ipykernel)",
   "language": "python",
   "name": "python3"
  },
  "language_info": {
   "codemirror_mode": {
    "name": "ipython",
    "version": 3
   },
   "file_extension": ".py",
   "mimetype": "text/x-python",
   "name": "python",
   "nbconvert_exporter": "python",
   "pygments_lexer": "ipython3",
   "version": "3.11.5"
  }
 },
 "nbformat": 4,
 "nbformat_minor": 5
}
