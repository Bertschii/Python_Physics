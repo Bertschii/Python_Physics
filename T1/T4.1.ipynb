{
 "cells": [
  {
   "cell_type": "code",
   "execution_count": 5,
   "metadata": {},
   "outputs": [
    {
     "data": {
      "image/png": "[encoded data removed]",
      "text/latex": [
       "$\\displaystyle \\left[\\begin{matrix}R \\omega t\\\\0\\\\0\\end{matrix}\\right]$"
      ],
      "text/plain": [
       "⎡R⋅ω⋅t⎤\n",
       "⎢     ⎥\n",
       "⎢  0  ⎥\n",
       "⎢     ⎥\n",
       "⎣  0  ⎦"
      ]
     },
     "metadata": {},
     "output_type": "display_data"
    },
    {
     "data": {
      "image/png": "[encoded data removed]",
      "text/latex": [
       "$\\displaystyle \\left[\\begin{matrix}0\\\\0\\\\2 R \\omega t\\end{matrix}\\right]$"
      ],
      "text/plain": [
       "⎡   0   ⎤\n",
       "⎢       ⎥\n",
       "⎢   0   ⎥\n",
       "⎢       ⎥\n",
       "⎣2⋅R⋅ω⋅t⎦"
      ]
     },
     "metadata": {},
     "output_type": "display_data"
    },
    {
     "data": {
      "image/png": "[encoded data removed]",
      "text/latex": [
       "$\\displaystyle \\left[\\begin{matrix}R \\cos{\\left(\\omega t \\right)}\\\\R \\sin{\\left(\\omega t \\right)}\\\\0\\end{matrix}\\right]$"
      ],
      "text/plain": [
       "⎡R⋅cos(ω⋅t)⎤\n",
       "⎢          ⎥\n",
       "⎢R⋅sin(ω⋅t)⎥\n",
       "⎢          ⎥\n",
       "⎣    0     ⎦"
      ]
     },
     "metadata": {},
     "output_type": "display_data"
    },
    {
     "data": {
      "image/png": "[encoded data removed]",
      "text/latex": [
       "$\\displaystyle \\left[\\begin{matrix}\\cos{\\left(\\varphi \\right)} & - \\sin{\\left(\\varphi \\right)} & 0\\\\\\sin{\\left(\\varphi \\right)} & \\cos{\\left(\\varphi \\right)} & 0\\\\0 & 0 & 1\\end{matrix}\\right]$"
      ],
      "text/plain": [
       "⎡cos(varphi)  -sin(varphi)  0⎤\n",
       "⎢                            ⎥\n",
       "⎢sin(varphi)  cos(varphi)   0⎥\n",
       "⎢                            ⎥\n",
       "⎣     0            0        1⎦"
      ]
     },
     "metadata": {},
     "output_type": "display_data"
    },
    {
     "data": {
      "image/png": "[encoded data removed]",
      "text/latex": [
       "$\\displaystyle \\left[\\begin{matrix}- R \\omega t\\\\0\\\\0\\end{matrix}\\right]$"
      ],
      "text/plain": [
       "⎡-R⋅ω⋅t⎤\n",
       "⎢      ⎥\n",
       "⎢  0   ⎥\n",
       "⎢      ⎥\n",
       "⎣  0   ⎦"
      ]
     },
     "metadata": {},
     "output_type": "display_data"
    }
   ],
   "source": [
    "from sympy import Matrix, symbols, cos, sin, diff, pi, init_printing, simplify\n",
    "\n",
    "#Define Symbols\n",
    "\n",
    "R, omega, t, varphi = symbols('R, omega, t, varphi')\n",
    "\n",
    "## Define Matrix\n",
    "\n",
    "Xt = Matrix([\n",
    "    R *omega *t, 0, 0,\n",
    "])\n",
    "\n",
    "\n",
    "Yt = Matrix([\n",
    "    0,0, 2*R*omega*t\n",
    "])\n",
    "\n",
    "\n",
    "Zt = Matrix([\n",
    "    R*cos(omega*t), R*sin(omega*t), 0\n",
    "])\n",
    "\n",
    "SMatrix = Matrix([\n",
    "    [cos(varphi), -sin(varphi), 0],\n",
    "    [sin(varphi), cos(varphi), 0],\n",
    "    [0,0,1]\n",
    "])\n",
    "\n",
    "Bt =  Matrix ([\n",
    "    -omega * R *t, 0,0\n",
    "])\n",
    "\n",
    "display(Xt, Yt, Zt , SMatrix, Bt)"
   ]
  },
  {
   "cell_type": "markdown",
   "metadata": {},
   "source": [
    "Calculate All $\\left(\\begin{array}{ccc}\\cos \\varphi & -\\sin \\varphi & 0 \\\\ \\sin \\varphi & \\cos \\varphi & 0 \\\\ 0 & 0 & 1\\end{array}\\right)(\\vec{x}+\\vec{b})$"
   ]
  },
  {
   "cell_type": "code",
   "execution_count": 12,
   "metadata": {},
   "outputs": [
    {
     "data": {
      "image/png": "[encoded data removed]",
      "text/latex": [
       "$\\displaystyle \\left[\\begin{matrix}0\\\\0\\\\0\\end{matrix}\\right]$"
      ],
      "text/plain": [
       "⎡0⎤\n",
       "⎢ ⎥\n",
       "⎢0⎥\n",
       "⎢ ⎥\n",
       "⎣0⎦"
      ]
     },
     "metadata": {},
     "output_type": "display_data"
    },
    {
     "data": {
      "image/png": "[encoded data removed]",
      "text/latex": [
       "$\\displaystyle \\left[\\begin{matrix}- R \\omega t \\cos{\\left(\\varphi \\right)}\\\\- R \\omega t \\sin{\\left(\\varphi \\right)}\\\\2 R \\omega t\\end{matrix}\\right]$"
      ],
      "text/plain": [
       "⎡-R⋅ω⋅t⋅cos(varphi)⎤\n",
       "⎢                  ⎥\n",
       "⎢-R⋅ω⋅t⋅sin(varphi)⎥\n",
       "⎢                  ⎥\n",
       "⎣     2⋅R⋅ω⋅t      ⎦"
      ]
     },
     "metadata": {},
     "output_type": "display_data"
    },
    {
     "data": {
      "image/png": "[encoded data removed]",
      "text/latex": [
       "$\\displaystyle \\left[\\begin{matrix}- R \\sin{\\left(\\varphi \\right)} \\sin{\\left(\\omega t \\right)} + \\left(- R \\omega t + R \\cos{\\left(\\omega t \\right)}\\right) \\cos{\\left(\\varphi \\right)}\\\\R \\sin{\\left(\\omega t \\right)} \\cos{\\left(\\varphi \\right)} + \\left(- R \\omega t + R \\cos{\\left(\\omega t \\right)}\\right) \\sin{\\left(\\varphi \\right)}\\\\0\\end{matrix}\\right]$"
      ],
      "text/plain": [
       "⎡-R⋅sin(varphi)⋅sin(ω⋅t) + (-R⋅ω⋅t + R⋅cos(ω⋅t))⋅cos(varphi)⎤\n",
       "⎢                                                           ⎥\n",
       "⎢R⋅sin(ω⋅t)⋅cos(varphi) + (-R⋅ω⋅t + R⋅cos(ω⋅t))⋅sin(varphi) ⎥\n",
       "⎢                                                           ⎥\n",
       "⎣                             0                             ⎦"
      ]
     },
     "metadata": {},
     "output_type": "display_data"
    }
   ],
   "source": [
    "SXt =  SMatrix * (Xt+Bt)\n",
    "\n",
    "SYt = SMatrix * (Yt+Bt)\n",
    "\n",
    "SZt = SMatrix * (Zt+Bt)\n",
    "\n",
    "display(SXt, SYt, SZt)"
   ]
  },
  {
   "cell_type": "markdown",
   "metadata": {},
   "source": [
    "Bestimme: $\\left|\\vec{y}^{\\prime}(t)-\\vec{z}^{\\prime}(t)\\right|$"
   ]
  },
  {
   "cell_type": "code",
   "execution_count": 15,
   "metadata": {},
   "outputs": [
    {
     "data": {
      "image/png": "[encoded data removed]",
      "text/latex": [
       "$\\displaystyle \\sqrt{\\left|{R \\sin{\\left(\\omega t + \\varphi \\right)}}\\right|^{2} + \\left|{R \\cos{\\left(\\omega t + \\varphi \\right)}}\\right|^{2} + 4 \\left|{R \\omega t}\\right|^{2}}$"
      ],
      "text/plain": [
       "   ______________________________________________________________\n",
       "  ╱                      2                        2            2 \n",
       "╲╱  │R⋅sin(ω⋅t + varphi)│  + │R⋅cos(ω⋅t + varphi)│  + 4⋅│R⋅ω⋅t│  "
      ]
     },
     "metadata": {},
     "output_type": "display_data"
    }
   ],
   "source": [
    "B1 =  SYt-SZt\n",
    "\n",
    "NormB1 = B1.norm()\n",
    "\n",
    "\n",
    "display(simplify(NormB1))"
   ]
  },
  {
   "cell_type": "markdown",
   "metadata": {},
   "source": [
    "Bestimme: $\\dot{\\vec{y}}^{\\prime}(0)$"
   ]
  },
  {
   "cell_type": "code",
   "execution_count": 16,
   "metadata": {},
   "outputs": [
    {
     "data": {
      "image/png": "[encoded data removed]",
      "text/latex": [
       "$\\displaystyle \\left[\\begin{matrix}- R \\omega \\cos{\\left(\\varphi \\right)}\\\\- R \\omega \\sin{\\left(\\varphi \\right)}\\\\2 R \\omega\\end{matrix}\\right]$"
      ],
      "text/plain": [
       "⎡-R⋅ω⋅cos(varphi)⎤\n",
       "⎢                ⎥\n",
       "⎢-R⋅ω⋅sin(varphi)⎥\n",
       "⎢                ⎥\n",
       "⎣     2⋅R⋅ω      ⎦"
      ]
     },
     "metadata": {},
     "output_type": "display_data"
    }
   ],
   "source": [
    "B2 = SYt.diff(t)\n",
    "display(simplify(B2))"
   ]
  },
  {
   "cell_type": "code",
   "execution_count": 20,
   "metadata": {},
   "outputs": [
    {
     "name": "stdout",
     "output_type": "stream",
     "text": [
      "Differential\n"
     ]
    },
    {
     "data": {
      "image/png": "[encoded data removed]",
      "text/latex": [
       "$\\displaystyle \\left[\\begin{matrix}- R \\omega \\left(\\sin{\\left(\\omega t + \\varphi \\right)} + \\cos{\\left(\\varphi \\right)}\\right)\\\\R \\omega \\left(- \\sin{\\left(\\varphi \\right)} + \\cos{\\left(\\omega t + \\varphi \\right)}\\right)\\\\0\\end{matrix}\\right]$"
      ],
      "text/plain": [
       "⎡-R⋅ω⋅(sin(ω⋅t + varphi) + cos(varphi))⎤\n",
       "⎢                                      ⎥\n",
       "⎢R⋅ω⋅(-sin(varphi) + cos(ω⋅t + varphi))⎥\n",
       "⎢                                      ⎥\n",
       "⎣                  0                   ⎦"
      ]
     },
     "metadata": {},
     "output_type": "display_data"
    },
    {
     "name": "stdout",
     "output_type": "stream",
     "text": [
      "t=0\n"
     ]
    },
    {
     "data": {
      "image/png": "[encoded data removed]",
      "text/latex": [
       "$\\displaystyle \\left[\\begin{matrix}- R \\omega \\sin{\\left(\\varphi \\right)} - R \\omega \\cos{\\left(\\varphi \\right)}\\\\- R \\omega \\sin{\\left(\\varphi \\right)} + R \\omega \\cos{\\left(\\varphi \\right)}\\\\0\\end{matrix}\\right]$"
      ],
      "text/plain": [
       "⎡-R⋅ω⋅sin(varphi) - R⋅ω⋅cos(varphi)⎤\n",
       "⎢                                  ⎥\n",
       "⎢-R⋅ω⋅sin(varphi) + R⋅ω⋅cos(varphi)⎥\n",
       "⎢                                  ⎥\n",
       "⎣                0                 ⎦"
      ]
     },
     "metadata": {},
     "output_type": "display_data"
    },
    {
     "name": "stdout",
     "output_type": "stream",
     "text": [
      "Norm\n"
     ]
    },
    {
     "data": {
      "image/png": "[encoded data removed]",
      "text/latex": [
       "$\\displaystyle \\sqrt{2 \\left|{R \\omega \\sin{\\left(\\varphi + \\frac{\\pi}{4} \\right)}}\\right|^{2} + 2 \\left|{R \\omega \\cos{\\left(\\varphi + \\frac{\\pi}{4} \\right)}}\\right|^{2}}$"
      ],
      "text/plain": [
       "     _____________________________________________________\n",
       "    ╱                        2                          2 \n",
       "   ╱    │       ⎛         π⎞│      │       ⎛         π⎞│  \n",
       "  ╱   2⋅│R⋅ω⋅sin⎜varphi + ─⎟│  + 2⋅│R⋅ω⋅cos⎜varphi + ─⎟│  \n",
       "╲╱      │       ⎝         4⎠│      │       ⎝         4⎠│  "
      ]
     },
     "metadata": {},
     "output_type": "display_data"
    }
   ],
   "source": [
    "B3 = SZt.diff(t)\n",
    "\n",
    "print(\"Differential\")\n",
    "display(simplify(B3))\n",
    "\n",
    "B30 = B3.subs(t,0)\n",
    "print(\"t=0\")\n",
    "display(B30)\n",
    "\n",
    "\n",
    "print(\"Norm\")\n",
    "display(simplify(B30.norm()))"
   ]
  },
  {
   "cell_type": "markdown",
   "metadata": {},
   "source": [
    "Bestimme: $\\left(\\dot{\\vec{y}}^{\\prime}(0)-\\dot{\\vec{x}}^{\\prime}(0)\\right)$"
   ]
  },
  {
   "cell_type": "code",
   "execution_count": 22,
   "metadata": {},
   "outputs": [
    {
     "data": {
      "image/png": "[encoded data removed]",
      "text/latex": [
       "$\\displaystyle \\left[\\begin{matrix}- R \\omega \\cos{\\left(\\varphi \\right)}\\\\- R \\omega \\sin{\\left(\\varphi \\right)}\\\\2 R \\omega\\end{matrix}\\right]$"
      ],
      "text/plain": [
       "⎡-R⋅ω⋅cos(varphi)⎤\n",
       "⎢                ⎥\n",
       "⎢-R⋅ω⋅sin(varphi)⎥\n",
       "⎢                ⎥\n",
       "⎣     2⋅R⋅ω      ⎦"
      ]
     },
     "metadata": {},
     "output_type": "display_data"
    }
   ],
   "source": [
    "\n",
    "display(simplify(SYt.diff(t) - SXt.diff(t)))"
   ]
  },
  {
   "cell_type": "markdown",
   "metadata": {},
   "source": [
    "Bestimme: $\\left(\\dot{\\vec{z}}^{\\prime}(0)-\\dot{\\vec{x}}^{\\prime}(0)\\right)$"
   ]
  },
  {
   "cell_type": "code",
   "execution_count": 32,
   "metadata": {},
   "outputs": [
    {
     "data": {
      "image/png": "[encoded data removed]",
      "text/latex": [
       "$\\displaystyle \\left[\\begin{matrix}- R \\omega \\left(\\sin{\\left(\\omega t + \\varphi \\right)} + \\cos{\\left(\\varphi \\right)}\\right)\\\\R \\omega \\left(- \\sin{\\left(\\varphi \\right)} + \\cos{\\left(\\omega t + \\varphi \\right)}\\right)\\\\0\\end{matrix}\\right]$"
      ],
      "text/plain": [
       "⎡-R⋅ω⋅(sin(ω⋅t + varphi) + cos(varphi))⎤\n",
       "⎢                                      ⎥\n",
       "⎢R⋅ω⋅(-sin(varphi) + cos(ω⋅t + varphi))⎥\n",
       "⎢                                      ⎥\n",
       "⎣                  0                   ⎦"
      ]
     },
     "metadata": {},
     "output_type": "display_data"
    }
   ],
   "source": [
    "display(simplify(SZt.diff(t) - SXt.diff(t).subs(t, 0)))\n",
    "\n"
   ]
  },
  {
   "cell_type": "markdown",
   "metadata": {},
   "source": [
    "Bestimme: $\\left|\\ddot{\\vec{z}}^{\\prime}(0)\\right|$."
   ]
  },
  {
   "cell_type": "code",
   "execution_count": 28,
   "metadata": {},
   "outputs": [
    {
     "data": {
      "image/png": "[encoded data removed]",
      "text/latex": [
       "$\\displaystyle \\left[\\begin{matrix}- R \\omega^{2} \\cos{\\left(\\varphi \\right)}\\\\- R \\omega^{2} \\sin{\\left(\\varphi \\right)}\\\\0\\end{matrix}\\right]$"
      ],
      "text/plain": [
       "⎡    2            ⎤\n",
       "⎢-R⋅ω ⋅cos(varphi)⎥\n",
       "⎢                 ⎥\n",
       "⎢    2            ⎥\n",
       "⎢-R⋅ω ⋅sin(varphi)⎥\n",
       "⎢                 ⎥\n",
       "⎣        0        ⎦"
      ]
     },
     "metadata": {},
     "output_type": "display_data"
    }
   ],
   "source": [
    "display(simplify(\n",
    "    ((SZt.diff(t)).diff(t)).subs(t, 0)\n",
    "                 ))"
   ]
  }
 ],
 "metadata": {
  "kernelspec": {
   "display_name": "base",
   "language": "python",
   "name": "python3"
  },
  "language_info": {
   "codemirror_mode": {
    "name": "ipython",
    "version": 3
   },
   "file_extension": ".py",
   "mimetype": "text/x-python",
   "name": "python",
   "nbconvert_exporter": "python",
   "pygments_lexer": "ipython3",
   "version": "3.11.5"
  }
 },
 "nbformat": 4,
 "nbformat_minor": 2
}
