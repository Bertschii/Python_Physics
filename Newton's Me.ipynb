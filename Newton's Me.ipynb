{
 "cells": [
  {
   "cell_type": "code",
   "execution_count": 6,
   "metadata": {},
   "outputs": [],
   "source": [
    "import math"
   ]
  },
  {
   "cell_type": "code",
   "execution_count": 21,
   "metadata": {},
   "outputs": [
    {
     "name": "stdout",
     "output_type": "stream",
     "text": [
      "Das Ergebnis wurde an der Stelle 0.8878622115708661 nach 100000 Versuchen gefunden.\n"
     ]
    }
   ],
   "source": [
    "def netwonsthing(funktion, divfunktion, x, n):\n",
    "    \n",
    "    def f(x):\n",
    "        return eval(funktion)\n",
    "    \n",
    "    def df(x):\n",
    "        return eval(divfunktion)\n",
    "    \n",
    "    for steps in range(1, n):\n",
    "        i= x- (f(x)/df(x))\n",
    "        x=i\n",
    "    print(f\"Das Ergebnis wurde an der Stelle {x} nach {n} Versuchen gefunden.\")\n",
    "    \n",
    "p = lambda x: 2*x-math.sin(x)-1 \n",
    "Dp = lambda x: 2*math.cos(x)\n",
    "\n",
    "netwonsthing(\"2*x-math.sin(x)-1\",\"2*math.cos(x)\", 1, 100000)\n",
    "\n"
   ]
  },
  {
   "cell_type": "code",
   "execution_count": null,
   "metadata": {},
   "outputs": [],
   "source": []
  }
 ],
 "metadata": {
  "kernelspec": {
   "display_name": "base",
   "language": "python",
   "name": "python3"
  },
  "language_info": {
   "codemirror_mode": {
    "name": "ipython",
    "version": 3
   },
   "file_extension": ".py",
   "mimetype": "text/x-python",
   "name": "python",
   "nbconvert_exporter": "python",
   "pygments_lexer": "ipython3",
   "version": "3.11.5"
  }
 },
 "nbformat": 4,
 "nbformat_minor": 2
}
