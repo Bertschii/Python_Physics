{
 "cells": [
  {
   "cell_type": "code",
   "execution_count": 5,
   "metadata": {},
   "outputs": [],
   "source": [
    "def netwonsthing(funktion, divfunktion, x_0, n0):\n",
    "    \n",
    "    def f(x):\n",
    "        f=eval(funktion)\n",
    "        return f\n",
    "    \n",
    "    def df(x):\n",
    "        df=eval(divfunktion)\n",
    "        return df\n",
    "    for steps in range(1, n):\n",
    "        i= x- (f(x)/df(x))\n",
    "        x=i\n",
    "    print(f\"Das ergebinss wurde gefunden an der Stelle {x} nach {n} versuchen.\")\n",
    "    "
   ]
  },
  {
   "cell_type": "code",
   "execution_count": null,
   "metadata": {},
   "outputs": [],
   "source": [
    "netwonsthing(\"2*x-\")"
   ]
  }
 ],
 "metadata": {
  "kernelspec": {
   "display_name": "base",
   "language": "python",
   "name": "python3"
  },
  "language_info": {
   "codemirror_mode": {
    "name": "ipython",
    "version": 3
   },
   "file_extension": ".py",
   "mimetype": "text/x-python",
   "name": "python",
   "nbconvert_exporter": "python",
   "pygments_lexer": "ipython3",
   "version": "3.11.5"
  }
 },
 "nbformat": 4,
 "nbformat_minor": 2
}
